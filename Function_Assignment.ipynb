{
  "nbformat": 4,
  "nbformat_minor": 0,
  "metadata": {
    "colab": {
      "provenance": [],
      "authorship_tag": "ABX9TyNvJ9tQJquCfLbD0e4waNQh",
      "include_colab_link": true
    },
    "kernelspec": {
      "name": "python3",
      "display_name": "Python 3"
    },
    "language_info": {
      "name": "python"
    }
  },
  "cells": [
    {
      "cell_type": "markdown",
      "metadata": {
        "id": "view-in-github",
        "colab_type": "text"
      },
      "source": [
        "<a href=\"https://colab.research.google.com/github/Salisu-Ibrahim/ArewaDS-30days-of-Python/blob/main/Function_Assignment.ipynb\" target=\"_parent\"><img src=\"https://colab.research.google.com/assets/colab-badge.svg\" alt=\"Open In Colab\"/></a>"
      ]
    },
    {
      "cell_type": "markdown",
      "source": [
        "# Funtion Assignment: The below code will display a message that pring one sentence telling what the user is learning in the chapter."
      ],
      "metadata": {
        "id": "ChEWjx3oLB_f"
      }
    },
    {
      "cell_type": "markdown",
      "source": [
        "#"
      ],
      "metadata": {
        "id": "GrMjW0eRLtrD"
      }
    },
    {
      "cell_type": "code",
      "execution_count": 22,
      "metadata": {
        "colab": {
          "base_uri": "https://localhost:8080/"
        },
        "id": "-Bb_vQP7K5LS",
        "outputId": "e9acb3cf-942a-446a-cd1a-a1c9f28fdc73"
      },
      "outputs": [
        {
          "output_type": "stream",
          "name": "stdout",
          "text": [
            "In this chapter, we are learning about Python functions.\n"
          ]
        }
      ],
      "source": [
        "\"\"\" Write a function called display_message() that prints one sentence telling everyone what you are learning about in this chapter. Call the\n",
        "unction, and make sure the message displays correctly \"\"\"\n",
        "def display_message():\n",
        "    message = \"In this chapter, we are learning about Python functions.\"\n",
        "    print(message)\n",
        "# Call the function\n",
        "display_message()\n"
      ]
    },
    {
      "cell_type": "markdown",
      "source": [
        "# The Below Code display the function call favorite_book with name of the given title of the book"
      ],
      "metadata": {
        "id": "EqZCTyArNUlx"
      }
    },
    {
      "cell_type": "code",
      "source": [
        "\"\"\" Write a function called favorite_book() that accepts one\n",
        "parameter, title. The function should print a message, such as One of my\n",
        "favorite books is Alice in Wonderland. Call the function, making sure to\n",
        "include a book title as an argument in the function call.\n",
        "\n",
        " \"\"\"\n",
        "def favorite_book(title):\n",
        "    message = f\"One of my favorite books is {title}.\"\n",
        "    print(message)\n",
        "# Call the function\n",
        "favorite_book(\"Learning how to Learn\")\n"
      ],
      "metadata": {
        "colab": {
          "base_uri": "https://localhost:8080/"
        },
        "id": "gO1-tTf8MWz_",
        "outputId": "73ee6e52-7c8f-4cd8-da05-46bcfeee4b25"
      },
      "execution_count": 23,
      "outputs": [
        {
          "output_type": "stream",
          "name": "stdout",
          "text": [
            "One of my favorite books is Learning how to Learn.\n"
          ]
        }
      ]
    },
    {
      "cell_type": "markdown",
      "source": [
        "# The below code will explai about a Fundtion to describe the T-Shirt size"
      ],
      "metadata": {
        "id": "_dUVTAVIPFd2"
      }
    },
    {
      "cell_type": "code",
      "source": [
        "\n",
        "\n",
        "def make_shirt(size, message):\n",
        "    summary = f\"Your shirt size is {size} : {message}\"\n",
        "    print(summary)\n",
        "\n",
        "# Call the function once using positional arguments\n",
        "make_shirt(\"Large\", \"Welcome, Salisu!\")\n",
        "\n",
        "# Call the function a second time using keyword arguments\n",
        "make_shirt(size=\"Medium\", message=\"Happy to see you again in our store!\")\n"
      ],
      "metadata": {
        "colab": {
          "base_uri": "https://localhost:8080/"
        },
        "id": "OfKOHNxxSgxD",
        "outputId": "51762f3f-5e68-459f-fc87-78685f805068"
      },
      "execution_count": 24,
      "outputs": [
        {
          "output_type": "stream",
          "name": "stdout",
          "text": [
            "Your shirt size is Large : Welcome, Salisu!\n",
            "Your shirt size is Medium : Happy to see you again in our store!\n"
          ]
        }
      ]
    },
    {
      "cell_type": "markdown",
      "source": [
        "# Large Shirt: Modifying the above function for T-shirt"
      ],
      "metadata": {
        "id": "88fFfZDaTaBb"
      }
    },
    {
      "cell_type": "code",
      "source": [
        "\"\"\" Modify the make_shirt() function so that shirts are large\n",
        "by default with a message that reads I love Python. Make a large shirt and a\n",
        "medium shirt with the default message, and a shirt of any size with a different\n",
        "message  \"\"\"\n",
        "\n",
        "def make_shirt(size=\"Large\", message=\"I love Python\"):\n",
        "    summary = f\"Your shirt size is {size} : {message}\"\n",
        "    print(summary)\n",
        "\n",
        "# Make a large shirt with the default message\n",
        "make_shirt()\n",
        "\n",
        "# Make a medium shirt with the default message\n",
        "make_shirt(size=\"Medium\")\n",
        "\n",
        "# Make a shirt of any size with a different message\n",
        "make_shirt(size=\"Small\", message=\"Keep Coding!\")\n"
      ],
      "metadata": {
        "colab": {
          "base_uri": "https://localhost:8080/"
        },
        "id": "Jv3Qb9EVT-Iw",
        "outputId": "c123d534-8c6e-4f1e-98ba-35143123ce59"
      },
      "execution_count": 25,
      "outputs": [
        {
          "output_type": "stream",
          "name": "stdout",
          "text": [
            "Your shirt size is Large : I love Python\n",
            "Your shirt size is Medium : I love Python\n",
            "Your shirt size is Small : Keep Coding!\n"
          ]
        }
      ]
    },
    {
      "cell_type": "code",
      "source": [
        "\"\"\" Write a function called describe_city() that accepts the name of\n",
        "a city and its country. The function should print a simple sentence, such as\n",
        "Reykjavik is in Iceland. Give the parameter for the country a default value.\n",
        "Call your function for three different cities, at least one of which is not in the\n",
        "default country. \"\"\"\n",
        "\n",
        "def describe_city(city, country=\"Japan\"):\n",
        "    description = f\"{city} is in {country}.\"\n",
        "    print(description)\n",
        "\n",
        "# Call the function\n",
        "describe_city(\"Kano\", \"Nigeria\")\n",
        "describe_city(\"Berlin\", \"Germany\")\n",
        "describe_city(\"Tokyo\")\n"
      ],
      "metadata": {
        "colab": {
          "base_uri": "https://localhost:8080/"
        },
        "id": "V-2D99XIV58i",
        "outputId": "d4f41520-5343-4df7-acaa-383c351fd596"
      },
      "execution_count": 26,
      "outputs": [
        {
          "output_type": "stream",
          "name": "stdout",
          "text": [
            "Kano is in Nigeria.\n",
            "Berlin is in Germany.\n",
            "Tokyo is in Japan.\n"
          ]
        }
      ]
    },
    {
      "cell_type": "code",
      "source": [
        "\"\"\" Write a function called city_country() that takes in the name\n",
        "of a city and its country. The function should return a string formatted like this:\n",
        "\"Santiago, Chile\"\n",
        "Call your function with at least three city-country pairs, and print the values\n",
        "that are returned \"\"\"\n",
        "\n",
        "def city_country(city, country):\n",
        "    result = f\"{city}, {country}\"\n",
        "    return result\n",
        "\n",
        "# Call the function\n",
        "pair1 = city_country(\"Santiago\", \"Chile\")\n",
        "pair2 = city_country(\"Tokyo\", \"Japan\")\n",
        "pair3 = city_country(\"Jigawa\", \"Nigeria\")\n",
        "\n",
        "# Print the values\n",
        "print(pair1)\n",
        "print(pair2)\n",
        "print(pair3)\n"
      ],
      "metadata": {
        "colab": {
          "base_uri": "https://localhost:8080/"
        },
        "id": "9D4HtKC_YeMj",
        "outputId": "cf05c2de-0942-4960-8bf6-e1002ecca3e2"
      },
      "execution_count": 27,
      "outputs": [
        {
          "output_type": "stream",
          "name": "stdout",
          "text": [
            "Santiago, Chile\n",
            "Tokyo, Japan\n",
            "Jigawa, Nigeria\n"
          ]
        }
      ]
    },
    {
      "cell_type": "markdown",
      "source": [
        "# Make Album **Function**"
      ],
      "metadata": {
        "id": "u0nTTxIRZ64l"
      }
    },
    {
      "cell_type": "code",
      "source": [
        "def make_album(artist, title, num_songs=None):\n",
        "    album_info = {'artist': artist, 'title': title}\n",
        "\n",
        "    if num_songs is not None:\n",
        "        album_info['num_songs'] = num_songs\n",
        "\n",
        "    return album_info\n",
        "\n",
        "# three dictionaries representing different albums\n",
        "album1 = make_album(\"Naziru\", \"Labarina\")\n",
        "album2 = make_album(\"Breaker\", \"Zamani\")\n",
        "album3 = make_album(\"M Shareef\", \"Mansur\", num_songs=12)\n",
        "\n",
        "# Print each return value\n",
        "print(album1)\n",
        "print(album2)\n",
        "print(album3)\n"
      ],
      "metadata": {
        "colab": {
          "base_uri": "https://localhost:8080/"
        },
        "id": "wvaZmabLaA71",
        "outputId": "b49e89c0-529f-498b-eb46-1f1886166440"
      },
      "execution_count": 28,
      "outputs": [
        {
          "output_type": "stream",
          "name": "stdout",
          "text": [
            "{'artist': 'Naziru', 'title': 'Labarina'}\n",
            "{'artist': 'Breaker', 'title': 'Zamani'}\n",
            "{'artist': 'M Shareef', 'title': 'Mansur', 'num_songs': 12}\n"
          ]
        }
      ]
    },
    {
      "cell_type": "markdown",
      "source": [
        "# User **Album**: While Loop"
      ],
      "metadata": {
        "id": "QWfhC7f5h3kN"
      }
    },
    {
      "cell_type": "code",
      "source": [],
      "metadata": {
        "id": "dXfZjWSAjtKB"
      },
      "execution_count": 28,
      "outputs": []
    },
    {
      "cell_type": "code",
      "source": [
        "\"\"\" Start with your program from Exercise 8-7. Write a while\n",
        "loop that allows users to enter an album’s artist and title. Once you have that\n",
        "information, call make_album() with the user’s input and print the dictionary\n",
        "that’s created. Be sure to include a quit value in the while loop. \"\"\"\n",
        "\n",
        "def make_album(artist, title, num_songs=None):\n",
        "    album_info = {'artist': artist, 'title': title}\n",
        "\n",
        "    if num_songs is not None:\n",
        "        album_info['num_songs'] = num_songs\n",
        "\n",
        "    return album_info\n",
        "\n",
        "# Start a while loop to allow users to enter album information\n",
        "while True:\n",
        "    print(\"\\nEnter album information or type 'quit' to exit.\")\n",
        "\n",
        "    artist_input = input(\"Enter the artist's name: \")\n",
        "    if artist_input.lower() == 'quit':\n",
        "        break  # Exit the loop if the user enters 'quit'\n",
        "\n",
        "    title_input = input(\"Enter the album title: \")\n",
        "    if title_input.lower() == 'quit':\n",
        "        break  # Exit the loop if the user enters 'quit'\n",
        "\n",
        "    # Call make_album() with user input and print the resulting dictionary\n",
        "    album_info = make_album(artist_input, title_input)\n",
        "    print(album_info)\n",
        "\n"
      ],
      "metadata": {
        "colab": {
          "base_uri": "https://localhost:8080/"
        },
        "id": "Mh_fRS2Uh-s3",
        "outputId": "dd4c9135-de72-4d5d-c90c-e87670a17f2c"
      },
      "execution_count": 29,
      "outputs": [
        {
          "name": "stdout",
          "output_type": "stream",
          "text": [
            "\n",
            "Enter album information or type 'quit' to exit.\n",
            "Enter the artist's name: M Shareef\n",
            "Enter the album title: Mansur\n",
            "{'artist': 'M Shareef', 'title': 'Mansur'}\n",
            "\n",
            "Enter album information or type 'quit' to exit.\n",
            "Enter the artist's name: quit\n"
          ]
        }
      ]
    },
    {
      "cell_type": "markdown",
      "source": [
        "# Make a list containing a series of short text messages.\n"
      ],
      "metadata": {
        "id": "qsdn08mWkoK5"
      }
    },
    {
      "cell_type": "code",
      "source": [
        "\"\"\" Make a list containing a series of short text messages. Pass the\n",
        "list to a function called show_messages(), which prints each text message \"\"\"\n",
        "\n",
        "def show_messages(messages):\n",
        "    for message in messages:\n",
        "        print(message)\n",
        "\n",
        "# Create a list of short text messages\n",
        "text_messages = [\n",
        "    \"Hello, how are you?\",\n",
        "    \"Can we have a Meeting at 2 PM in the conference room.\",\n",
        "    \"Let's all come on time so we can finished within 30 minutes\",\n",
        "    \"See you then!\"\n",
        "]\n",
        "# Call the  function with the list of messages\n",
        "show_messages(text_messages)\n"
      ],
      "metadata": {
        "colab": {
          "base_uri": "https://localhost:8080/"
        },
        "id": "3AQTR94lkwkv",
        "outputId": "17ad6827-1517-4bd3-d625-6a6edcd593ec"
      },
      "execution_count": 30,
      "outputs": [
        {
          "output_type": "stream",
          "name": "stdout",
          "text": [
            "Hello, how are you?\n",
            "Can we have a Meeting at 2 PM in the conference room.\n",
            "Let's all come on time so we can finished within 30 minutes\n",
            "See you then!\n"
          ]
        }
      ]
    },
    {
      "cell_type": "markdown",
      "source": [
        "# Sending **Messages**"
      ],
      "metadata": {
        "id": "hg47-OnymGWY"
      }
    },
    {
      "cell_type": "code",
      "source": [
        "\n",
        "\n",
        "\n",
        "def send_messages(messages, sent_messages):\n",
        "    for message in messages:\n",
        "        print(message)\n",
        "        sent_messages.append(message)\n",
        "\n",
        "# Create a list of short text messages\n",
        "text_messages = [\n",
        "    \"Hello, how are you?\",\n",
        "    \"Can we have a Meeting at 2 PM in the conference room.\",\n",
        "    \"Let's all come on time so we can finished within 30 minutes\",\n",
        "    \"See you then!\"\n",
        "]\n",
        "\n",
        "# Create an empty list for sent messages\n",
        "sent_messages = []\n",
        "\n",
        "# Call the send_messages() function with the list of messages and the empty list for sent messages\n",
        "send_messages(text_messages, sent_messages)\n",
        "\n",
        "# Print both lists to ensure messages were moved correctly\n",
        "print(\"Original Messages:\")\n",
        "print(text_messages)\n",
        "\n",
        "print(\"\\nSent Messages:\")\n",
        "print(sent_messages)\n"
      ],
      "metadata": {
        "colab": {
          "base_uri": "https://localhost:8080/"
        },
        "id": "S36wMofVmJTL",
        "outputId": "5c932820-a966-4e81-d960-76af48f72ac9"
      },
      "execution_count": 31,
      "outputs": [
        {
          "output_type": "stream",
          "name": "stdout",
          "text": [
            "Hello, how are you?\n",
            "Can we have a Meeting at 2 PM in the conference room.\n",
            "Let's all come on time so we can finished within 30 minutes\n",
            "See you then!\n",
            "Original Messages:\n",
            "['Hello, how are you?', 'Can we have a Meeting at 2 PM in the conference room.', \"Let's all come on time so we can finished within 30 minutes\", 'See you then!']\n",
            "\n",
            "Sent Messages:\n",
            "['Hello, how are you?', 'Can we have a Meeting at 2 PM in the conference room.', \"Let's all come on time so we can finished within 30 minutes\", 'See you then!']\n"
          ]
        }
      ]
    },
    {
      "cell_type": "markdown",
      "source": [
        "# Archieved **Messages**"
      ],
      "metadata": {
        "id": "LASdT72mnRHD"
      }
    },
    {
      "cell_type": "code",
      "source": [
        "def send_messages(messages, sent_messages):\n",
        "    for message in messages:\n",
        "        print(message)\n",
        "        sent_messages.append(message)\n",
        "\n",
        "# Create a list of short text messages\n",
        "text_messages = [\n",
        "    \"Hello, how are you?\",\n",
        "    \"Can we have a Meeting at 2 PM in the conference room.\",\n",
        "    \"Let's all come on time so we can finished within 30 minutes\",\n",
        "    \"See you then!\"\n",
        "]\n",
        "\n",
        "# Create a copy of the list of messages\n",
        "copy_of_messages = text_messages.copy()\n",
        "\n",
        "# Create an empty list for sent messages\n",
        "sent_messages = []\n",
        "\n",
        "# Call the send_messages() function with the copy of the list of messages\n",
        "send_messages(copy_of_messages, sent_messages)\n",
        "\n",
        "# Print both lists to show that the original list has retained its messages\n",
        "print(\"Original Messages:\")\n",
        "print(text_messages)\n",
        "\n",
        "print(\"\\nSent Messages:\")\n",
        "print(sent_messages)\n"
      ],
      "metadata": {
        "colab": {
          "base_uri": "https://localhost:8080/"
        },
        "id": "j9YO1jronXkn",
        "outputId": "72cbd07c-3f0b-4d49-8812-a4b5c8425220"
      },
      "execution_count": 32,
      "outputs": [
        {
          "output_type": "stream",
          "name": "stdout",
          "text": [
            "Hello, how are you?\n",
            "Can we have a Meeting at 2 PM in the conference room.\n",
            "Let's all come on time so we can finished within 30 minutes\n",
            "See you then!\n",
            "Original Messages:\n",
            "['Hello, how are you?', 'Can we have a Meeting at 2 PM in the conference room.', \"Let's all come on time so we can finished within 30 minutes\", 'See you then!']\n",
            "\n",
            "Sent Messages:\n",
            "['Hello, how are you?', 'Can we have a Meeting at 2 PM in the conference room.', \"Let's all come on time so we can finished within 30 minutes\", 'See you then!']\n"
          ]
        }
      ]
    },
    {
      "cell_type": "code",
      "source": [
        "\"\"\" Write a function that accepts a list of items a person wants on a sandwich. The function should have one parameter that collects as many items as the function call provides, and it should print a summary of the sandiwch that is being ordered. Call the function three tiems, using a different number of arguments each time. \"\"\"\n",
        "\n",
        "def make_sandwich(*items):\n",
        "    \"\"\"Make a sandwich with the given items.\"\"\"\n",
        "    print(\"\\nI'll make you a great sandwich:\")\n",
        "    for item in items:\n",
        "        print(\"  ...adding \" + item + \" to your sandwich.\")\n",
        "    print(\"Your sandwich is ready!\")\n",
        "\n",
        "make_sandwich('roast beef', 'cheddar cheese', 'lettuce', 'honey dijon')\n",
        "make_sandwich('turkey', 'apple slices', 'honey mustard')\n",
        "make_sandwich('peanut butter', 'strawberry jam')"
      ],
      "metadata": {
        "colab": {
          "base_uri": "https://localhost:8080/"
        },
        "id": "MKcL-fJuGmW9",
        "outputId": "fdde5187-a8f8-4201-df8b-3d424fa5cfd8"
      },
      "execution_count": 33,
      "outputs": [
        {
          "output_type": "stream",
          "name": "stdout",
          "text": [
            "\n",
            "I'll make you a great sandwich:\n",
            "  ...adding roast beef to your sandwich.\n",
            "  ...adding cheddar cheese to your sandwich.\n",
            "  ...adding lettuce to your sandwich.\n",
            "  ...adding honey dijon to your sandwich.\n",
            "Your sandwich is ready!\n",
            "\n",
            "I'll make you a great sandwich:\n",
            "  ...adding turkey to your sandwich.\n",
            "  ...adding apple slices to your sandwich.\n",
            "  ...adding honey mustard to your sandwich.\n",
            "Your sandwich is ready!\n",
            "\n",
            "I'll make you a great sandwich:\n",
            "  ...adding peanut butter to your sandwich.\n",
            "  ...adding strawberry jam to your sandwich.\n",
            "Your sandwich is ready!\n"
          ]
        }
      ]
    },
    {
      "cell_type": "markdown",
      "source": [
        "Write a function that stores information about a car in a dictionary. the function should always receive a manufacturer and a model name. It should then accept an arbitrary number of keyword arguments. Call the function with the required information and two other name-value pairs, such as a color or an optional feature. Your function should work for a call like this one:\n",
        "\n",
        "car = make_car('subaru', 'outback', color='blue', tow_package=True)\n",
        "\n",
        "Print the dictionary that’s returned to make sure all the information was stored correctly."
      ],
      "metadata": {
        "id": "FekE02JqHH0E"
      }
    },
    {
      "cell_type": "code",
      "source": [
        "def make_car(manufacturer, model, **options):\n",
        "    \"\"\"Make a dictionary representing a car.\"\"\"\n",
        "    car_dict = {\n",
        "        'manufacturer': manufacturer.title(),\n",
        "        'model': model.title(),\n",
        "        }\n",
        "    for option, value in options.items():\n",
        "        car_dict[option] = value\n",
        "\n",
        "    return car_dict\n",
        "\n",
        "my_outback = make_car('subaru', 'outback', color='blue', tow_package=True)\n",
        "print(my_outback)\n",
        "\n",
        "my_accord = make_car('honda', 'accord', year=1991, color='white',\n",
        "        headlights='popup')\n",
        "print(my_accord)"
      ],
      "metadata": {
        "colab": {
          "base_uri": "https://localhost:8080/"
        },
        "id": "24cFM4TiG6cT",
        "outputId": "7d678d03-a723-4c78-bc40-51b2de705164"
      },
      "execution_count": 34,
      "outputs": [
        {
          "output_type": "stream",
          "name": "stdout",
          "text": [
            "{'manufacturer': 'Subaru', 'model': 'Outback', 'color': 'blue', 'tow_package': True}\n",
            "{'manufacturer': 'Honda', 'model': 'Accord', 'year': 1991, 'color': 'white', 'headlights': 'popup'}\n"
          ]
        }
      ]
    },
    {
      "cell_type": "markdown",
      "source": [
        "Put the functions for the example printing_models.py in a separate file called printing_functions.py. Write an import statement at the top of printing_models.py, and modify the file to use the imported functions.\n"
      ],
      "metadata": {
        "id": "bIQBEpNdHkRt"
      }
    },
    {
      "cell_type": "code",
      "source": [
        "def print_models(unprinted_designs, completed_models):\n",
        "    \"\"\"\n",
        "    Simulate printing each design, until there are none left.\n",
        "    Move each design to completed_models after printing.\n",
        "    \"\"\"\n",
        "    while unprinted_designs:\n",
        "        current_design = unprinted_designs.pop()\n",
        "\n",
        "        # Simulate creating a 3d print from the design.\n",
        "        print(\"Printing model: \" + current_design)\n",
        "        completed_models.append(current_design)\n",
        "\n",
        "def show_completed_models(completed_models):\n",
        "    \"\"\"Show all the models that were printed.\"\"\"\n",
        "    print(\"\\nThe following models have been printed:\")\n",
        "    for completed_model in completed_models:\n",
        "        print(completed_model)"
      ],
      "metadata": {
        "id": "PkJXLc-xHuAN"
      },
      "execution_count": 35,
      "outputs": []
    },
    {
      "cell_type": "code",
      "source": [
        "import printing_functions\n",
        "\n",
        "unprinted_designs = ['iphone case', 'robot pendant', 'dodecahedron']\n",
        "completed_models = []\n",
        "\n",
        "printing_functions.print_models(unprinted_designs, completed_models)\n",
        "printing_functions.show_completed_models(completed_models)"
      ],
      "metadata": {
        "id": "UWMoMMOBI7NU"
      },
      "execution_count": null,
      "outputs": []
    }
  ]
}